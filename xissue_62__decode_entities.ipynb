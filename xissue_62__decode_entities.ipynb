{
 "cells": [
  {
   "cell_type": "code",
   "execution_count": null,
   "id": "c43b149e",
   "metadata": {},
   "outputs": [],
   "source": [
    "# 2024-04-02 run against production db\n",
    "from django.db import models\n",
    "from tqdm import tqdm"
   ]
  },
  {
   "cell_type": "code",
   "execution_count": null,
   "id": "30525a2e",
   "metadata": {},
   "outputs": [],
   "source": [
    "items = CourtDecission.objects.all()"
   ]
  },
  {
   "cell_type": "code",
   "execution_count": null,
   "id": "dff6644a",
   "metadata": {},
   "outputs": [],
   "source": [
    "items.first()"
   ]
  },
  {
   "cell_type": "code",
   "execution_count": null,
   "id": "0d8340eb",
   "metadata": {},
   "outputs": [],
   "source": [
    "patterns = [\n",
    "    [\"&#8364;\", \"€\"],\n",
    "    [\"&#167;\", \"§\"],\n",
    "]"
   ]
  },
  {
   "cell_type": "code",
   "execution_count": null,
   "id": "aa9cfe17",
   "metadata": {},
   "outputs": [],
   "source": [
    "for item in tqdm(items):\n",
    "    for x in item._meta.fields:\n",
    "        if isinstance(x, models.CharField) or isinstance(x, models.TextField):\n",
    "            value = getattr(item, x.name)\n",
    "            if value is not None:\n",
    "                for p in patterns:\n",
    "                    value = value.replace(p[0], p[1])\n",
    "                setattr(item, x.name, value)\n",
    "                item.save()"
   ]
  },
  {
   "cell_type": "code",
   "execution_count": null,
   "id": "aedfc3f7",
   "metadata": {},
   "outputs": [],
   "source": []
  }
 ],
 "metadata": {
  "kernelspec": {
   "display_name": "Django Shell-Plus",
   "language": "python",
   "name": "django_extensions"
  },
  "language_info": {
   "codemirror_mode": {
    "name": "ipython",
    "version": 3
   },
   "file_extension": ".py",
   "mimetype": "text/x-python",
   "name": "python",
   "nbconvert_exporter": "python",
   "pygments_lexer": "ipython3",
   "version": "3.10.12"
  }
 },
 "nbformat": 4,
 "nbformat_minor": 5
}
