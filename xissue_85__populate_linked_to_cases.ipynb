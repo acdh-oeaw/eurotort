{
 "cells": [
  {
   "cell_type": "code",
   "execution_count": 1,
   "id": "5f8bcf70",
   "metadata": {},
   "outputs": [],
   "source": [
    "items = KeyWord.objects.filter(rvn_courtdecission_keyword_keyword=None)"
   ]
  },
  {
   "cell_type": "code",
   "execution_count": 2,
   "id": "ca0c2a1b",
   "metadata": {},
   "outputs": [
    {
     "data": {
      "text/plain": [
       "55"
      ]
     },
     "execution_count": 2,
     "metadata": {},
     "output_type": "execute_result"
    }
   ],
   "source": [
    "items.count()"
   ]
  },
  {
   "cell_type": "code",
   "execution_count": 3,
   "id": "d860cbdb",
   "metadata": {},
   "outputs": [],
   "source": [
    "for x in items:\n",
    "    x.linked_to_cases = False\n",
    "    x.save()"
   ]
  }
 ],
 "metadata": {
  "kernelspec": {
   "display_name": "Django Shell-Plus",
   "language": "python",
   "name": "django_extensions"
  },
  "language_info": {
   "codemirror_mode": {
    "name": "ipython",
    "version": 3
   },
   "file_extension": ".py",
   "mimetype": "text/x-python",
   "name": "python",
   "nbconvert_exporter": "python",
   "pygments_lexer": "ipython3",
   "version": "3.10.12"
  }
 },
 "nbformat": 4,
 "nbformat_minor": 5
}
