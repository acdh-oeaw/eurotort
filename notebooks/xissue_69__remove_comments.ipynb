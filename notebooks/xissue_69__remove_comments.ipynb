{
 "cells": [
  {
   "cell_type": "code",
   "execution_count": null,
   "id": "18ed1eaa",
   "metadata": {},
   "outputs": [],
   "source": [
    "# 2024-04-05 run server\n",
    "items = CourtDecission.objects.filter(short_description__icontains=\"<!--\")\n",
    "items.count()"
   ]
  },
  {
   "cell_type": "code",
   "execution_count": null,
   "id": "d3f9dec8",
   "metadata": {},
   "outputs": [],
   "source": [
    "for x in items:\n",
    "    keep, remove = x.short_description.split(\"<!--\")\n",
    "    x.short_description = keep.strip()\n",
    "    x.save()"
   ]
  },
  {
   "cell_type": "code",
   "execution_count": null,
   "id": "23e99fb3",
   "metadata": {},
   "outputs": [],
   "source": []
  }
 ],
 "metadata": {
  "kernelspec": {
   "display_name": "Django Shell-Plus",
   "language": "python",
   "name": "django_extensions"
  },
  "language_info": {
   "codemirror_mode": {
    "name": "ipython",
    "version": 3
   },
   "file_extension": ".py",
   "mimetype": "text/x-python",
   "name": "python",
   "nbconvert_exporter": "python",
   "pygments_lexer": "ipython3",
   "version": "3.10.12"
  }
 },
 "nbformat": 4,
 "nbformat_minor": 5
}
