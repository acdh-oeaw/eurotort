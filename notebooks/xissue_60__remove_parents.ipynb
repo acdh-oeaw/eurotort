{
 "cells": [
  {
   "cell_type": "code",
   "execution_count": null,
   "id": "3fb851b6",
   "metadata": {},
   "outputs": [],
   "source": [
    "# 2024-03-18: run against production-db\n",
    "\n",
    "from tqdm import tqdm"
   ]
  },
  {
   "cell_type": "code",
   "execution_count": null,
   "id": "9d4d2698",
   "metadata": {},
   "outputs": [],
   "source": [
    "splitter = \", in: \"\n",
    "items = YearBook.objects.exclude(part_of=None).filter(title__icontains=splitter)"
   ]
  },
  {
   "cell_type": "code",
   "execution_count": null,
   "id": "e7348c53",
   "metadata": {},
   "outputs": [],
   "source": [
    "for x in tqdm(items, total=items.count()):\n",
    "    new_title = x.title.split(\", in: \")[0]\n",
    "    x.title = new_title\n",
    "    x.save()"
   ]
  },
  {
   "cell_type": "code",
   "execution_count": null,
   "id": "118a01bd",
   "metadata": {},
   "outputs": [],
   "source": []
  }
 ],
 "metadata": {
  "kernelspec": {
   "display_name": "Django Shell-Plus",
   "language": "python",
   "name": "django_extensions"
  },
  "language_info": {
   "codemirror_mode": {
    "name": "ipython",
    "version": 3
   },
   "file_extension": ".py",
   "mimetype": "text/x-python",
   "name": "python",
   "nbconvert_exporter": "python",
   "pygments_lexer": "ipython3",
   "version": "3.10.12"
  }
 },
 "nbformat": 4,
 "nbformat_minor": 5
}
