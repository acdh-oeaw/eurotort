{
 "cells": [
  {
   "cell_type": "code",
   "execution_count": 1,
   "id": "5f8bcf70",
   "metadata": {},
   "outputs": [],
   "source": [
    "items = KeyWord.objects.filter(rvn_courtdecission_keyword_keyword=None)"
   ]
  },
  {
   "cell_type": "code",
   "execution_count": 2,
   "id": "ca0c2a1b",
   "metadata": {},
   "outputs": [
    {
     "data": {
      "text/plain": [
       "55"
      ]
     },
     "execution_count": 2,
     "metadata": {},
     "output_type": "execute_result"
    }
   ],
   "source": [
    "items.count()"
   ]
  },
  {
   "cell_type": "code",
   "execution_count": 3,
   "id": "d860cbdb",
   "metadata": {},
   "outputs": [],
   "source": [
    "for x in items:\n",
    "    x.linked_to_cases = False\n",
    "    x.save()"
   ]
  },
  {
   "cell_type": "code",
   "execution_count": null,
   "id": "9697abd3",
   "metadata": {},
   "outputs": [],
   "source": [
    "data = {}\n",
    "for gr, ndf in df.groupby('legal_system__name'):\n",
    "    data[gr] = ndf.to_dict('records')"
   ]
  },
  {
   "cell_type": "code",
   "execution_count": null,
   "id": "779ed74b",
   "metadata": {},
   "outputs": [],
   "source": [
    "for key, value in data.items():\n",
    "    print(key)\n",
    "    for x in value:\n",
    "        print(x[\"name\"])"
   ]
  },
  {
   "cell_type": "code",
   "execution_count": null,
   "id": "f5d743b9",
   "metadata": {},
   "outputs": [],
   "source": [
    "ndf = pd.DataFrame(new_data).reset_index().rename(columns={0: \"court_decissions\", \"keyword__count\": \"keywords\"})"
   ]
  },
  {
   "cell_type": "code",
   "execution_count": null,
   "id": "ee0445f9",
   "metadata": {},
   "outputs": [],
   "source": [
    "ndf"
   ]
  },
  {
   "cell_type": "code",
   "execution_count": null,
   "id": "c5c34f69",
   "metadata": {},
   "outputs": [],
   "source": [
    "for x in Court.objects.filter(orig_data_csv__icontains='gericht_hoechstgericht\": 1'):\n",
    "    x.is_high_court = True\n",
    "    x.save()"
   ]
  },
  {
   "cell_type": "code",
   "execution_count": null,
   "id": "e68f2cae",
   "metadata": {},
   "outputs": [],
   "source": []
  }
 ],
 "metadata": {
  "kernelspec": {
   "display_name": "Django Shell-Plus",
   "language": "python",
   "name": "django_extensions"
  },
  "language_info": {
   "codemirror_mode": {
    "name": "ipython",
    "version": 3
   },
   "file_extension": ".py",
   "mimetype": "text/x-python",
   "name": "python",
   "nbconvert_exporter": "python",
   "pygments_lexer": "ipython3",
   "version": "3.10.12"
  }
 },
 "nbformat": 4,
 "nbformat_minor": 5
}
