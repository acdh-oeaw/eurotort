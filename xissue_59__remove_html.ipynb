{
 "cells": [
  {
   "cell_type": "code",
   "execution_count": null,
   "id": "0a826b0c",
   "metadata": {},
   "outputs": [],
   "source": [
    "# ToDo: run against production db\n",
    "from django.db import models\n",
    "from django.utils.html import strip_tags\n",
    "from tqdm import tqdm"
   ]
  },
  {
   "cell_type": "code",
   "execution_count": null,
   "id": "2a4790d4",
   "metadata": {},
   "outputs": [],
   "source": [
    "items = CourtDecission.objects.all()"
   ]
  },
  {
   "cell_type": "code",
   "execution_count": null,
   "id": "53b6f38e",
   "metadata": {},
   "outputs": [],
   "source": [
    "item = items.first()    \n",
    "    "
   ]
  },
  {
   "cell_type": "code",
   "execution_count": null,
   "id": "ce7f4a48",
   "metadata": {},
   "outputs": [],
   "source": [
    "for item in tqdm(items):\n",
    "    for x in item._meta.fields:\n",
    "        if isinstance(x, models.CharField) or isinstance(x, models.TextField):\n",
    "            value = getattr(item, x.name)\n",
    "            if value is not None:\n",
    "                new_value = strip_tags(value)\n",
    "                setattr(item, x.name, new_value)\n",
    "                item.save()\n"
   ]
  }
 ],
 "metadata": {
  "kernelspec": {
   "display_name": "Django Shell-Plus",
   "language": "python",
   "name": "django_extensions"
  },
  "language_info": {
   "codemirror_mode": {
    "name": "ipython",
    "version": 3
   },
   "file_extension": ".py",
   "mimetype": "text/x-python",
   "name": "python",
   "nbconvert_exporter": "python",
   "pygments_lexer": "ipython3",
   "version": "3.10.12"
  }
 },
 "nbformat": 4,
 "nbformat_minor": 5
}
